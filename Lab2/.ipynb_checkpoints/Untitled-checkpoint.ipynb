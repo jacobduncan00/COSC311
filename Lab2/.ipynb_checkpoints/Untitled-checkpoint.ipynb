{
 "cells": [
  {
   "cell_type": "code",
   "execution_count": 2,
   "id": "a665a24f-1f0c-49d3-b429-3e2b6a36d29e",
   "metadata": {},
   "outputs": [],
   "source": [
    "import pandas as pd\n",
    "adult_frame = pd.read_csv(\"adult.data\", header=None,\n",
    "                              skipinitialspace=True,  # this data has some extra whitespace\n",
    "                              names=['age', 'workclass', 'fnlwgt', 'education',\n",
    "                                     'education-num', 'marital-status',\n",
    "                                     'occupation', 'relationship', 'race',\n",
    "                                     'sex', 'capital_gain', 'capital_loss',\n",
    "                                     'hr_per_week', 'country', 'income'\n",
    "                                     ])"
   ]
  },
  {
   "cell_type": "code",
   "execution_count": 3,
   "id": "924a9f24-22b5-40bd-b5eb-9b4a2e580ed4",
   "metadata": {},
   "outputs": [
    {
     "ename": "IndentationError",
     "evalue": "unexpected indent (<ipython-input-3-b46544340c2d>, line 2)",
     "output_type": "error",
     "traceback": [
      "\u001b[0;36m  File \u001b[0;32m\"<ipython-input-3-b46544340c2d>\"\u001b[0;36m, line \u001b[0;32m2\u001b[0m\n\u001b[0;31m    over = occupation_income[occupation_income['income']\u001b[0m\n\u001b[0m    ^\u001b[0m\n\u001b[0;31mIndentationError\u001b[0m\u001b[0;31m:\u001b[0m unexpected indent\n"
     ]
    }
   ],
   "source": [
    "occupation_income = adult_frame[['occupation', 'income']]\n",
    "over = occupation_income[occupation_income['income']\n",
    "                             == '>50K'].groupby('occupation').count()\n",
    "under = occupation_income[occupation_income['income']\n",
    "                              == '<=50K'].groupby('occupation').count()\n",
    "print(over)\n",
    "print(under)"
   ]
  },
  {
   "cell_type": "code",
   "execution_count": null,
   "id": "3d14c7c4-359f-44f9-8e6b-61edfab48946",
   "metadata": {},
   "outputs": [],
   "source": []
  }
 ],
 "metadata": {
  "kernelspec": {
   "display_name": "Python 3",
   "language": "python",
   "name": "python3"
  },
  "language_info": {
   "codemirror_mode": {
    "name": "ipython",
    "version": 3
   },
   "file_extension": ".py",
   "mimetype": "text/x-python",
   "name": "python",
   "nbconvert_exporter": "python",
   "pygments_lexer": "ipython3",
   "version": "3.9.7"
  }
 },
 "nbformat": 4,
 "nbformat_minor": 5
}
