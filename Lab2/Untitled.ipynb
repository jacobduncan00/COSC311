{
 "cells": [
  {
   "cell_type": "code",
   "execution_count": 2,
   "id": "a665a24f-1f0c-49d3-b429-3e2b6a36d29e",
   "metadata": {},
   "outputs": [],
   "source": [
    "import pandas as pd\n",
    "adult_frame = pd.read_csv(\"adult.data\", header=None,\n",
    "                              skipinitialspace=True,  # this data has some extra whitespace\n",
    "                              names=['age', 'workclass', 'fnlwgt', 'education',\n",
    "                                     'education-num', 'marital-status',\n",
    "                                     'occupation', 'relationship', 'race',\n",
    "                                     'sex', 'capital_gain', 'capital_loss',\n",
    "                                     'hr_per_week', 'country', 'income'\n",
    "                                     ])"
   ]
  },
  {
   "cell_type": "code",
   "execution_count": 4,
   "id": "924a9f24-22b5-40bd-b5eb-9b4a2e580ed4",
   "metadata": {},
   "outputs": [
    {
     "name": "stdout",
     "output_type": "stream",
     "text": [
      "                   income\n",
      "occupation               \n",
      "?                     191\n",
      "Adm-clerical          507\n",
      "Armed-Forces            1\n",
      "Craft-repair          929\n",
      "Exec-managerial      1968\n",
      "Farming-fishing       115\n",
      "Handlers-cleaners      86\n",
      "Machine-op-inspct     250\n",
      "Other-service         137\n",
      "Priv-house-serv         1\n",
      "Prof-specialty       1859\n",
      "Protective-serv       211\n",
      "Sales                 983\n",
      "Tech-support          283\n",
      "Transport-moving      320\n",
      "                   income\n",
      "occupation               \n",
      "?                    1652\n",
      "Adm-clerical         3263\n",
      "Armed-Forces            8\n",
      "Craft-repair         3170\n",
      "Exec-managerial      2098\n",
      "Farming-fishing       879\n",
      "Handlers-cleaners    1284\n",
      "Machine-op-inspct    1752\n",
      "Other-service        3158\n",
      "Priv-house-serv       148\n",
      "Prof-specialty       2281\n",
      "Protective-serv       438\n",
      "Sales                2667\n",
      "Tech-support          645\n",
      "Transport-moving     1277\n"
     ]
    }
   ],
   "source": [
    "occupation_income = adult_frame[['occupation', 'income']]\n",
    "over = occupation_income[occupation_income['income']\n",
    "                             == '>50K'].groupby('occupation').count()\n",
    "under = occupation_income[occupation_income['income']\n",
    "                              == '<=50K'].groupby('occupation').count()\n",
    "print(over)\n",
    "print(under)"
   ]
  },
  {
   "cell_type": "code",
   "execution_count": null,
   "id": "3d14c7c4-359f-44f9-8e6b-61edfab48946",
   "metadata": {},
   "outputs": [],
   "source": []
  }
 ],
 "metadata": {
  "kernelspec": {
   "display_name": "Python 3",
   "language": "python",
   "name": "python3"
  },
  "language_info": {
   "codemirror_mode": {
    "name": "ipython",
    "version": 3
   },
   "file_extension": ".py",
   "mimetype": "text/x-python",
   "name": "python",
   "nbconvert_exporter": "python",
   "pygments_lexer": "ipython3",
   "version": "3.9.7"
  }
 },
 "nbformat": 4,
 "nbformat_minor": 5
}
