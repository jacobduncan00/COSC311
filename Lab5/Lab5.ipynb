{
 "cells": [
  {
   "cell_type": "code",
   "execution_count": 66,
   "id": "cfd09d11",
   "metadata": {},
   "outputs": [
    {
     "name": "stdout",
     "output_type": "stream",
     "text": [
      "P(3 <= Y < 6) Approximation: 0.5722615234339066\n"
     ]
    },
    {
     "data": {
      "image/png": "[encoded data removed]",
      "text/plain": [
       "<Figure size 432x288 with 1 Axes>"
      ]
     },
     "metadata": {
      "needs_background": "light"
     },
     "output_type": "display_data"
    }
   ],
   "source": [
    "import math\n",
    "import random\n",
    "import matplotlib.pyplot as plt\n",
    "from collections import Counter\n",
    "\n",
    "num_trials = 10\n",
    "prob = 1/2\n",
    "sigma = 2.5\n",
    "mean = 5\n",
    "\n",
    "def bernoulli_trial(p):\n",
    "    return 1 if random.random() < p else 0\n",
    "\n",
    "def binomial(n, p):\n",
    "    return sum(bernoulli_trial(p) for _ in range(n))\n",
    "\n",
    "def normal_cdf(x, mu=0,sigma=1):\n",
    "    return (1 + math.erf((x - mu) / math.sqrt(2) / sigma)) / 2\n",
    "\n",
    "def normal_pdf(x, mu=0, sigma=1):\n",
    "    sqrt_two_pi = math.sqrt(2 * math.pi)\n",
    "    return (math.exp(-(x-mu) ** 2 / 2 / sigma ** 2) / (sqrt_two_pi * sigma))\n",
    "\n",
    "answer = normal_pdf(3, 5, math.sqrt(sigma)) + normal_pdf(4, 5, math.sqrt(sigma)) + normal_pdf(5, 5, math.sqrt(sigma))\n",
    "print(f\"P(3 <= Y < 6) Approximation: {answer}\")\n",
    "\n",
    "def make_hist(p, n, num_points):\n",
    "    data = [binomial(n, p) for _ in range(num_points)]\n",
    "    # use a bar chart to show the actual binomial samples\n",
    "    histogram = Counter(data)\n",
    "    plt.bar([x - 0.4 for x in histogram.keys()],\n",
    "    [v / num_points for v in histogram.values()],\n",
    "    0.8,\n",
    "    color='0.75')\n",
    "    mu = p * n\n",
    "    sigma = math.sqrt(n * p * (1 - p))\n",
    "    # use a line chart to show the normal approximation\n",
    "    xs = range(min(data), max(data) + 1)\n",
    "    ys = [normal_cdf(i + 0.5, mu, sigma) - normal_cdf(i - 0.5, mu, sigma)\n",
    "    for i in xs]\n",
    "    plt.plot(xs, ys)\n",
    "    plt.title(\"Binomial Distribution vs. Normal Approximation\")\n",
    "    plt.legend([\"Normal Approx\", \"Binomial Dist\"])\n",
    "    plt.show()\n",
    "\n",
    "make_hist(1/2, 10, 10000)"
   ]
  },
  {
   "cell_type": "code",
   "execution_count": 44,
   "id": "a13a6dc7",
   "metadata": {},
   "outputs": [
    {
     "name": "stdout",
     "output_type": "stream",
     "text": [
      "99% confidence interval is 19.45120138400705 to 150.54879861599295\n",
      "95% confidence interval is 35.10654551947721 to 134.8934544805228\n",
      "90% confidence interval is 43.12513641813266 to 126.87486358186734\n",
      "80% confidence interval is 52.41651952292389 to 117.58348047707611\n"
     ]
    }
   ],
   "source": [
    "# Question 3\n",
    "\n",
    "n = 8\n",
    "sigma = 72\n",
    "x_bar = 85\n",
    "z_percentage = {\n",
    "    \"99\": 2.575,\n",
    "    \"95\": 1.96,\n",
    "    \"90\": 1.645,\n",
    "    \"80\": 1.28\n",
    "}\n",
    "\n",
    "def confidence_interval(n, sigma, x_bar):\n",
    "    for key, val in z_percentage.items():\n",
    "        low = x_bar - (val * (sigma)/math.sqrt(n))\n",
    "        high = x_bar + (val * (sigma)/math.sqrt(n))\n",
    "        print(f\"{key}% confidence interval is {low} to {high}\")\n",
    "        \n",
    "    \n",
    "confidence_interval(n, sigma, x_bar)\n",
    "    \n"
   ]
  },
  {
   "cell_type": "code",
   "execution_count": 69,
   "id": "137c051d",
   "metadata": {},
   "outputs": [
    {
     "name": "stdout",
     "output_type": "stream",
     "text": [
      "Significance Level: 0.0122\n",
      "Power Function Output with Mu = 11.5: 1.0\n",
      "K(11): 0.25\n",
      "K(11.5): 1.0\n",
      "K(12): 1\n",
      "Z for 12: 3.0\n",
      "P-Value: 0.0013\n",
      "Z for 12.5: 3.75\n",
      "P-Value: 0.0001\n"
     ]
    }
   ],
   "source": [
    "# Question 4\n",
    "\n",
    "# (a)\n",
    "sd = 2\n",
    "n = 9\n",
    "se = sd / math.sqrt(n)\n",
    "# P(Z > (11.5 - 10) / (2 / 3))\n",
    "# P(Z > 2.25)\n",
    "sig_level = 0.0122\n",
    "print(f\"Significance Level: {sig_level}\")\n",
    "\n",
    "# (b)\n",
    "# P(Mean > 11.5) for a true mean of Mu\n",
    "# converting to standard normal variable\n",
    "# P(Z > ((11.5 - Mu) / (2 / 3)))\n",
    "# 1 - Phi(17.25 - 1.5Mu)\n",
    "def uniform_cdf(x):\n",
    "    if x < 0: \n",
    "        return 0 # uniform random is never less than 0\n",
    "    elif x < 1: \n",
    "        return x # e.g. P(X <= 0.4) = 0.4\n",
    "    else: \n",
    "        return 1 # uniform random is always less than 1\n",
    "\n",
    "Mu = 11.5 # This is what you plug into the function\n",
    "def power_function(Mu):\n",
    "    return 1 - uniform_cdf(17.25 - 1.5 * Mu)\n",
    "print(f\"Power Function Output with Mu = {Mu}: {power_function(Mu)}\")\n",
    "\n",
    "# (c)\n",
    "# K(11) = 1 - Phi(0.75)\n",
    "print(f\"K(11): {power_function(11)}\")\n",
    "# From standard normal tables\n",
    "# K(11) = 1 - 0.7734 = 0.2266 is the power of the test\n",
    "# For a true mean of 11.5, we compute the same here:\n",
    "print(f\"K(11.5): {power_function(11.5)}\")\n",
    "# For a true mean of 12, we compute the same here:\n",
    "print(f\"K(12): {power_function(12)}\")\n",
    "\n",
    "# (d)\n",
    "x_bar = 12\n",
    "mu_0 = 10\n",
    "sigma = 2\n",
    "n = 9\n",
    "z = (x_bar - mu_0)/(sigma/math.sqrt(n))\n",
    "print(f\"Z for 12: {z}\")\n",
    "print(\"P-Value: 0.0013\")\n",
    "\n",
    "# P-Value obtained from standard normal v table:\n",
    "# P(Z > 3) = 0.0013 is the p-value\n",
    "\n",
    "x_bar = 12.5\n",
    "z = (x_bar - mu_0)/(sigma/math.sqrt(n))\n",
    "print(f\"Z for 12.5: {z}\")\n",
    "print(\"P-Value: 0.0001\")\n",
    "\n",
    "# P-Value obtained from standard normal v table:\n",
    "# P(Z > 3.75) = 0.0001 is the p-value\n"
   ]
  },
  {
   "cell_type": "code",
   "execution_count": null,
   "id": "0bd4318c",
   "metadata": {},
   "outputs": [],
   "source": []
  },
  {
   "cell_type": "code",
   "execution_count": null,
   "id": "ca73fa12",
   "metadata": {},
   "outputs": [],
   "source": []
  }
 ],
 "metadata": {
  "interpreter": {
   "hash": "f24d7e647225f31d3a9608519da831f7054406feb44929f5d716b35557212e30"
  },
  "kernelspec": {
   "display_name": "Python 3.9.12 ('env-01')",
   "language": "python",
   "name": "python3"
  },
  "language_info": {
   "codemirror_mode": {
    "name": "ipython",
    "version": 3
   },
   "file_extension": ".py",
   "mimetype": "text/x-python",
   "name": "python",
   "nbconvert_exporter": "python",
   "pygments_lexer": "ipython3",
   "version": "3.9.12"
  }
 },
 "nbformat": 4,
 "nbformat_minor": 5
}
