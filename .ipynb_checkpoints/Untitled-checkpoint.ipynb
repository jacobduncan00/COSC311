{
 "cells": [
  {
   "cell_type": "code",
   "execution_count": null,
   "id": "a49bc0bd-8f33-45f9-8106-9d4e7ef22e19",
   "metadata": {},
   "outputs": [],
   "source": [
    "def add(x,y):\n",
    "    return x+y"
   ]
  },
  {
   "cell_type": "code",
   "execution_count": null,
   "id": "e77c7be0-b7ce-4411-a682-46c8dad8588e",
   "metadata": {},
   "outputs": [],
   "source": [
    "print(add([1,2,3],[4,5,6]))"
   ]
  }
 ],
 "metadata": {
  "kernelspec": {
   "display_name": "Python 3",
   "language": "python",
   "name": "python3"
  },
  "language_info": {
   "codemirror_mode": {
    "name": "ipython",
    "version": 3
   },
   "file_extension": ".py",
   "mimetype": "text/x-python",
   "name": "python",
   "nbconvert_exporter": "python",
   "pygments_lexer": "ipython3",
   "version": "3.9.7"
  }
 },
 "nbformat": 4,
 "nbformat_minor": 5
}
