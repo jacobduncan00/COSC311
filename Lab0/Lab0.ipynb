{
 "cells": [
  {
   "cell_type": "code",
   "execution_count": 38,
   "id": "c72d856a-473c-4e7f-b60c-9b93ef8b5eee",
   "metadata": {},
   "outputs": [
    {
     "name": "stdout",
     "output_type": "stream",
     "text": [
      "Minimum House Price: $69,100\n",
      "Maximum House Price: $211,200\n",
      "Mean House Price: $130,427\n"
     ]
    }
   ],
   "source": []
  },
  {
   "cell_type": "code",
   "execution_count": 56,
   "id": "392e7fe0-9aee-48a5-9215-b11af3ec646c",
   "metadata": {},
   "outputs": [
    {
     "name": "stdout",
     "output_type": "stream",
     "text": [
      "Minimum House Price: $69,100\n",
      "Maximum House Price: $211,200\n"
     ]
    }
   ],
   "source": [
    "import csv\n",
    "filename = open(\"house-prices.csv\", \"r\")\n",
    "file = csv.DictReader(filename)\n",
    "prices = []\n",
    "for col in file:\n",
    "    prices.append(int(col[\"Price\"]))\n",
    "    \n",
    "minPrice = \"{:,}\".format(min(prices))\n",
    "maxPrice = \"{:,}\".format(max(prices))\n",
    "print(f\"Minimum House Price: ${minPrice}\")\n",
    "print(f\"Maximum House Price: ${maxPrice}\")"
   ]
  },
  {
   "cell_type": "code",
   "execution_count": null,
   "id": "31ab4ed5-607d-4e99-ae8f-c4290e6069af",
   "metadata": {},
   "outputs": [],
   "source": []
  }
 ],
 "metadata": {
  "kernelspec": {
   "display_name": "Python 3",
   "language": "python",
   "name": "python3"
  },
  "language_info": {
   "codemirror_mode": {
    "name": "ipython",
    "version": 3
   },
   "file_extension": ".py",
   "mimetype": "text/x-python",
   "name": "python",
   "nbconvert_exporter": "python",
   "pygments_lexer": "ipython3",
   "version": "3.9.7"
  }
 },
 "nbformat": 4,
 "nbformat_minor": 5
}
