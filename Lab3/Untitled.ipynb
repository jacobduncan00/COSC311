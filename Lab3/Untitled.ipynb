{
 "cells": [
  {
   "cell_type": "code",
   "execution_count": 2,
   "id": "82dcd86e",
   "metadata": {},
   "outputs": [
    {
     "name": "stdout",
     "output_type": "stream",
     "text": [
      "[1, 4, 9, 16, 25]\n"
     ]
    }
   ],
   "source": [
    "def squared_sequence(n):\n",
    "    return [i**2 for i in range(1,n+1)]\n",
    "\n",
    "print(squared_sequence(5))"
   ]
  },
  {
   "cell_type": "code",
   "execution_count": 12,
   "id": "4c28e769",
   "metadata": {},
   "outputs": [
    {
     "name": "stdout",
     "output_type": "stream",
     "text": [
      "Name            Wages\n",
      "---------------------\n",
      "Jacob Duncan      $88\n",
      "\n",
      "Name            Wages\n",
      "---------------------\n",
      "\n"
     ]
    }
   ],
   "source": [
    "class PayRoll():\n",
    "    def __init__(self):\n",
    "        self.employees = []\n",
    "        \n",
    "    def addEmployee(self, name, wage, hours):\n",
    "        self.employees.append({\"name\": name, \"wage\": wage, \"hours\": hours})\n",
    "        \n",
    "    def removeEmployee(self, name):\n",
    "        for employee in self.employees:\n",
    "            if employee['name'] == name:\n",
    "                del self.employees[self.employees.index(employee)]\n",
    "        \n",
    "    def printPayroll(self):\n",
    "        print(\"Name            Wages\")\n",
    "        print(\"---------------------\")\n",
    "        for employee in self.employees:\n",
    "            print(f\"{employee['name']}      ${employee['hours']*employee['wage']}\")\n",
    "        print(\"\")\n",
    "            \n",
    "            \n",
    "p = PayRoll()\n",
    "p.addEmployee(\"Jacob Duncan\", 11, 8)\n",
    "p.printPayroll()\n",
    "p.removeEmployee(\"Jacob Duncan\")\n",
    "p.printPayroll()"
   ]
  },
  {
   "cell_type": "code",
   "execution_count": null,
   "id": "2d084424",
   "metadata": {},
   "outputs": [],
   "source": []
  },
  {
   "cell_type": "code",
   "execution_count": 19,
   "id": "8afcc3b6",
   "metadata": {},
   "outputs": [
    {
     "name": "stdout",
     "output_type": "stream",
     "text": [
      "[(1, 2), (1, 3), (2, 1)]\n",
      "{'coal': 1, 'peaches': 2, 'textiles': 1, 'paper': 1, 'steel': 1, 'lumber': 1}\n"
     ]
    },
    {
     "data": {
      "image/png": "[encoded data removed]",
      "text/plain": [
       "<Figure size 432x288 with 1 Axes>"
      ]
     },
     "metadata": {
      "needs_background": "light"
     },
     "output_type": "display_data"
    },
    {
     "name": "stdout",
     "output_type": "stream",
     "text": [
      "None\n"
     ]
    }
   ],
   "source": [
    "import pandas as pd\n",
    "import matplotlib.pyplot as plt\n",
    "\n",
    "cities = [\n",
    "    {\"id\": 1,\"imports\": [\"coal\", \"peaches\", \"textiles\"],\"exports\": [\"paper\", \"lumber\"]},\n",
    "    {\"id\": 2, \"imports\": [\"paper\", \"steel\"], \"exports\": [\"textiles\", \"cars\"]},\n",
    "    {\"id\": 3, \"imports\": [\"lumber\", \"peaches\"], \"exports\": [\"plums\", \"cherries\"]}\n",
    "]\n",
    "\n",
    "def export_import():\n",
    "    retList = []\n",
    "    for city in cities:\n",
    "        for city2 in cities:\n",
    "            for export in city['exports']:\n",
    "                if export in city2['imports'] and city != city2:\n",
    "                    retList.append((city['id'], city2['id']))\n",
    "                    break\n",
    "                \n",
    "    return retList\n",
    "\n",
    "def count_city_import():\n",
    "    retDict = {}\n",
    "    for city in cities:\n",
    "        for imported in city['imports']:\n",
    "            if imported not in retDict:\n",
    "                retDict[imported] = 1\n",
    "            else:\n",
    "                retDict[imported] = retDict[imported] + 1\n",
    "                \n",
    "    return retDict\n",
    "\n",
    "\n",
    "def city_productivity():\n",
    "    ids = [city['id'] for city in cities]\n",
    "    imports = [city['imports'] for city in cities]\n",
    "    exports = [city['exports'] for city in cities]\n",
    "    graph = pd.DataFrame({'City ID\\'s': ids, '# of imports': [len(imports[0]), len(imports[1]), len(imports[2])], '# of exports': [len(exports[0]), len(exports[1]), len(exports[2])]})\n",
    "    graph.plot.bar(x='City ID\\'s', rot=0)\n",
    "    plt.show()\n",
    "\n",
    "print(export_import())\n",
    "print(count_city_import())\n",
    "print(city_productivity())"
   ]
  },
  {
   "cell_type": "code",
   "execution_count": 27,
   "id": "b4e4cf19",
   "metadata": {},
   "outputs": [
    {
     "name": "stdout",
     "output_type": "stream",
     "text": [
      "Mean: 9.88888888888889\n",
      "Median: 8\n",
      "Mode: 8\n"
     ]
    }
   ],
   "source": [
    "a = [10, 19, 4, 5, 7, 12, 8, 8, 16]\n",
    "\n",
    "def find_mean(a):\n",
    "    sum = 0\n",
    "    for num in a:\n",
    "        sum += num\n",
    "    return sum / len(a)\n",
    "\n",
    "def find_median(a):\n",
    "    mid = len(a) // 2\n",
    "    a.sort()\n",
    "    if len(a) % 2 != 0:\n",
    "        return a[mid]\n",
    "    else:\n",
    "        return (a[mid] + a[mid - 1]) / 2\n",
    "        \n",
    "def find_mode(a):\n",
    "    seenDict = {}\n",
    "    for num in a:\n",
    "        if num not in seenDict:\n",
    "            seenDict[num] = 1\n",
    "        else:\n",
    "            seenDict[num] = seenDict[num] + 1\n",
    "            \n",
    "    mode = max(seenDict, key=seenDict.get)\n",
    "    return mode\n",
    "\n",
    "print(\"Mean:\", find_mean(a))\n",
    "print(\"Median:\", find_median(a))\n",
    "print(\"Mode:\", find_mode(a))\n",
    "        "
   ]
  },
  {
   "cell_type": "code",
   "execution_count": null,
   "id": "f05fba09",
   "metadata": {},
   "outputs": [],
   "source": []
  }
 ],
 "metadata": {
  "kernelspec": {
   "display_name": "Python 3 (ipykernel)",
   "language": "python",
   "name": "python3"
  },
  "language_info": {
   "codemirror_mode": {
    "name": "ipython",
    "version": 3
   },
   "file_extension": ".py",
   "mimetype": "text/x-python",
   "name": "python",
   "nbconvert_exporter": "python",
   "pygments_lexer": "ipython3",
   "version": "3.9.10"
  }
 },
 "nbformat": 4,
 "nbformat_minor": 5
}
