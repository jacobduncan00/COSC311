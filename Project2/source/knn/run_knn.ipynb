{
 "cells": [
  {
   "cell_type": "code",
   "execution_count": 106,
   "metadata": {},
   "outputs": [],
   "source": [
    "# Imports\n",
    "import numpy as np\n",
    "import pandas as pd\n",
    "from pandas.plotting import scatter_matrix\n",
    "import matplotlib.pyplot as plt\n",
    "import seaborn as sns\n",
    "import sklearn\n",
    "from sklearn.preprocessing import LabelEncoder\n",
    "from sklearn.preprocessing import RobustScaler\n",
    "from sklearn.model_selection import train_test_split\n",
    "from sklearn.neighbors import KNeighborsRegressor\n",
    "from sklearn.metrics import mean_squared_error\n",
    "from sklearn.model_selection import GridSearchCV"
   ]
  },
  {
   "cell_type": "code",
   "execution_count": 85,
   "metadata": {},
   "outputs": [
    {
     "data": {
      "text/html": [
       "<div>\n",
       "<style scoped>\n",
       "    .dataframe tbody tr th:only-of-type {\n",
       "        vertical-align: middle;\n",
       "    }\n",
       "\n",
       "    .dataframe tbody tr th {\n",
       "        vertical-align: top;\n",
       "    }\n",
       "\n",
       "    .dataframe thead th {\n",
       "        text-align: right;\n",
       "    }\n",
       "</style>\n",
       "<table border=\"1\" class=\"dataframe\">\n",
       "  <thead>\n",
       "    <tr style=\"text-align: right;\">\n",
       "      <th></th>\n",
       "      <th>country</th>\n",
       "      <th>year</th>\n",
       "      <th>sex</th>\n",
       "      <th>age</th>\n",
       "      <th>suicides_no</th>\n",
       "      <th>population</th>\n",
       "      <th>suicides/100k pop</th>\n",
       "      <th>country-year</th>\n",
       "      <th>HDI for year</th>\n",
       "      <th>gdp_for_year ($)</th>\n",
       "      <th>gdp_per_capita ($)</th>\n",
       "      <th>generation</th>\n",
       "    </tr>\n",
       "  </thead>\n",
       "  <tbody>\n",
       "    <tr>\n",
       "      <th>0</th>\n",
       "      <td>Albania</td>\n",
       "      <td>1987</td>\n",
       "      <td>male</td>\n",
       "      <td>15-24 years</td>\n",
       "      <td>21</td>\n",
       "      <td>312900</td>\n",
       "      <td>6.71</td>\n",
       "      <td>Albania1987</td>\n",
       "      <td>NaN</td>\n",
       "      <td>2,156,624,900</td>\n",
       "      <td>796</td>\n",
       "      <td>Generation X</td>\n",
       "    </tr>\n",
       "    <tr>\n",
       "      <th>1</th>\n",
       "      <td>Albania</td>\n",
       "      <td>1987</td>\n",
       "      <td>male</td>\n",
       "      <td>35-54 years</td>\n",
       "      <td>16</td>\n",
       "      <td>308000</td>\n",
       "      <td>5.19</td>\n",
       "      <td>Albania1987</td>\n",
       "      <td>NaN</td>\n",
       "      <td>2,156,624,900</td>\n",
       "      <td>796</td>\n",
       "      <td>Silent</td>\n",
       "    </tr>\n",
       "    <tr>\n",
       "      <th>2</th>\n",
       "      <td>Albania</td>\n",
       "      <td>1987</td>\n",
       "      <td>female</td>\n",
       "      <td>15-24 years</td>\n",
       "      <td>14</td>\n",
       "      <td>289700</td>\n",
       "      <td>4.83</td>\n",
       "      <td>Albania1987</td>\n",
       "      <td>NaN</td>\n",
       "      <td>2,156,624,900</td>\n",
       "      <td>796</td>\n",
       "      <td>Generation X</td>\n",
       "    </tr>\n",
       "    <tr>\n",
       "      <th>3</th>\n",
       "      <td>Albania</td>\n",
       "      <td>1987</td>\n",
       "      <td>male</td>\n",
       "      <td>75+ years</td>\n",
       "      <td>1</td>\n",
       "      <td>21800</td>\n",
       "      <td>4.59</td>\n",
       "      <td>Albania1987</td>\n",
       "      <td>NaN</td>\n",
       "      <td>2,156,624,900</td>\n",
       "      <td>796</td>\n",
       "      <td>G.I. Generation</td>\n",
       "    </tr>\n",
       "    <tr>\n",
       "      <th>4</th>\n",
       "      <td>Albania</td>\n",
       "      <td>1987</td>\n",
       "      <td>male</td>\n",
       "      <td>25-34 years</td>\n",
       "      <td>9</td>\n",
       "      <td>274300</td>\n",
       "      <td>3.28</td>\n",
       "      <td>Albania1987</td>\n",
       "      <td>NaN</td>\n",
       "      <td>2,156,624,900</td>\n",
       "      <td>796</td>\n",
       "      <td>Boomers</td>\n",
       "    </tr>\n",
       "  </tbody>\n",
       "</table>\n",
       "</div>"
      ],
      "text/plain": [
       "   country  year     sex          age  suicides_no  population  \\\n",
       "0  Albania  1987    male  15-24 years           21      312900   \n",
       "1  Albania  1987    male  35-54 years           16      308000   \n",
       "2  Albania  1987  female  15-24 years           14      289700   \n",
       "3  Albania  1987    male    75+ years            1       21800   \n",
       "4  Albania  1987    male  25-34 years            9      274300   \n",
       "\n",
       "   suicides/100k pop country-year  HDI for year  gdp_for_year ($)   \\\n",
       "0               6.71  Albania1987           NaN      2,156,624,900   \n",
       "1               5.19  Albania1987           NaN      2,156,624,900   \n",
       "2               4.83  Albania1987           NaN      2,156,624,900   \n",
       "3               4.59  Albania1987           NaN      2,156,624,900   \n",
       "4               3.28  Albania1987           NaN      2,156,624,900   \n",
       "\n",
       "   gdp_per_capita ($)       generation  \n",
       "0                 796     Generation X  \n",
       "1                 796           Silent  \n",
       "2                 796     Generation X  \n",
       "3                 796  G.I. Generation  \n",
       "4                 796          Boomers  "
      ]
     },
     "execution_count": 85,
     "metadata": {},
     "output_type": "execute_result"
    }
   ],
   "source": [
    "# Load Data\n",
    "raw_df = pd.read_csv('../../data/suicide.csv')\n",
    "raw_df.head()"
   ]
  },
  {
   "cell_type": "code",
   "execution_count": 86,
   "metadata": {},
   "outputs": [
    {
     "data": {
      "text/plain": [
       "Index(['country', 'year', 'gender', 'age_group', 'suicide_count', 'population',\n",
       "       'suicide_rate', 'country-year', 'HDI for year', 'gdp_for_year',\n",
       "       'gdp_per_capita', 'generation'],\n",
       "      dtype='object')"
      ]
     },
     "execution_count": 86,
     "metadata": {},
     "output_type": "execute_result"
    }
   ],
   "source": [
    "# Renaming the columns\n",
    "raw_df.columns = ['country', 'year', 'gender', 'age_group', 'suicide_count', 'population', 'suicide_rate', 'country-year', 'HDI for year', 'gdp_for_year', 'gdp_per_capita', 'generation']\n",
    "raw_df.columns"
   ]
  },
  {
   "cell_type": "code",
   "execution_count": 87,
   "metadata": {},
   "outputs": [
    {
     "data": {
      "text/plain": [
       "15-24 years    4642\n",
       "35-54 years    4642\n",
       "75+ years      4642\n",
       "25-34 years    4642\n",
       "55-74 years    4642\n",
       "5-14 years     4610\n",
       "Name: age_group, dtype: int64"
      ]
     },
     "execution_count": 87,
     "metadata": {},
     "output_type": "execute_result"
    }
   ],
   "source": [
    "raw_df.age_group.value_counts()"
   ]
  },
  {
   "cell_type": "code",
   "execution_count": 88,
   "metadata": {},
   "outputs": [
    {
     "data": {
      "text/plain": [
       "Generation X       6408\n",
       "Silent             6364\n",
       "Millenials         5844\n",
       "Boomers            4990\n",
       "G.I. Generation    2744\n",
       "Generation Z       1470\n",
       "Name: generation, dtype: int64"
      ]
     },
     "execution_count": 88,
     "metadata": {},
     "output_type": "execute_result"
    }
   ],
   "source": [
    "raw_df.generation.value_counts()"
   ]
  },
  {
   "cell_type": "code",
   "execution_count": 89,
   "metadata": {},
   "outputs": [
    {
     "name": "stdout",
     "output_type": "stream",
     "text": [
      "Number of countries: 101\n"
     ]
    },
    {
     "data": {
      "text/plain": [
       "array(['Albania', 'Antigua and Barbuda', 'Argentina', 'Armenia', 'Aruba',\n",
       "       'Australia', 'Austria', 'Azerbaijan', 'Bahamas', 'Bahrain',\n",
       "       'Barbados', 'Belarus', 'Belgium', 'Belize',\n",
       "       'Bosnia and Herzegovina', 'Brazil', 'Bulgaria', 'Cabo Verde',\n",
       "       'Canada', 'Chile', 'Colombia', 'Costa Rica', 'Croatia', 'Cuba',\n",
       "       'Cyprus', 'Czech Republic', 'Denmark', 'Dominica', 'Ecuador',\n",
       "       'El Salvador', 'Estonia', 'Fiji', 'Finland', 'France', 'Georgia',\n",
       "       'Germany', 'Greece', 'Grenada', 'Guatemala', 'Guyana', 'Hungary',\n",
       "       'Iceland', 'Ireland', 'Israel', 'Italy', 'Jamaica', 'Japan',\n",
       "       'Kazakhstan', 'Kiribati', 'Kuwait', 'Kyrgyzstan', 'Latvia',\n",
       "       'Lithuania', 'Luxembourg', 'Macau', 'Maldives', 'Malta',\n",
       "       'Mauritius', 'Mexico', 'Mongolia', 'Montenegro', 'Netherlands',\n",
       "       'New Zealand', 'Nicaragua', 'Norway', 'Oman', 'Panama', 'Paraguay',\n",
       "       'Philippines', 'Poland', 'Portugal', 'Puerto Rico', 'Qatar',\n",
       "       'Republic of Korea', 'Romania', 'Russian Federation',\n",
       "       'Saint Kitts and Nevis', 'Saint Lucia',\n",
       "       'Saint Vincent and Grenadines', 'San Marino', 'Serbia',\n",
       "       'Seychelles', 'Singapore', 'Slovakia', 'Slovenia', 'South Africa',\n",
       "       'Spain', 'Sri Lanka', 'Suriname', 'Sweden', 'Switzerland',\n",
       "       'Thailand', 'Trinidad and Tobago', 'Turkey', 'Turkmenistan',\n",
       "       'Ukraine', 'United Arab Emirates', 'United Kingdom',\n",
       "       'United States', 'Uruguay', 'Uzbekistan'], dtype=object)"
      ]
     },
     "execution_count": 89,
     "metadata": {},
     "output_type": "execute_result"
    }
   ],
   "source": [
    "# Counting Countries\n",
    "#Listing countries\n",
    "\n",
    "country = raw_df.country.unique()\n",
    "print(\"Number of countries:\", len(country))\n",
    "country"
   ]
  },
  {
   "cell_type": "markdown",
   "metadata": {},
   "source": [
    "# What we noticed about the data\n",
    "\n",
    "- `HDI for year` column has a lot of NaN values. No other columns in the dataset have missing values or NaN values. Therefore, we will be removing the `HDI for year` column\n",
    "- There are 6 different age groups in the dataset\n",
    "    - 15-24 years\n",
    "    - 35-54 years    \n",
    "    - 75+ years      \n",
    "    - 25-34 years    \n",
    "    - 55-74 years    \n",
    "    - 5-14 years \n",
    "- Due to the fact that there are age groups instead of quantitative values for age and it is in a categorical format, we need to encode this data.\n",
    "- Gender should also be encoded as it can be a boolean value ex. 1 = Male, 0 = Female\n",
    "- There are 6 different generations in the dataset\n",
    "    - Generation X       \n",
    "    - Silent             \n",
    "    - Millenials         \n",
    "    - Boomers            \n",
    "    - G.I. Generation    \n",
    "    - Generation Z  \n",
    "- Generation can be encoded as well as it is in a categorical format"
   ]
  },
  {
   "cell_type": "code",
   "execution_count": 90,
   "metadata": {},
   "outputs": [
    {
     "data": {
      "text/html": [
       "<div>\n",
       "<style scoped>\n",
       "    .dataframe tbody tr th:only-of-type {\n",
       "        vertical-align: middle;\n",
       "    }\n",
       "\n",
       "    .dataframe tbody tr th {\n",
       "        vertical-align: top;\n",
       "    }\n",
       "\n",
       "    .dataframe thead th {\n",
       "        text-align: right;\n",
       "    }\n",
       "</style>\n",
       "<table border=\"1\" class=\"dataframe\">\n",
       "  <thead>\n",
       "    <tr style=\"text-align: right;\">\n",
       "      <th></th>\n",
       "      <th>year</th>\n",
       "      <th>suicide_count</th>\n",
       "      <th>population</th>\n",
       "      <th>suicide_rate</th>\n",
       "      <th>HDI for year</th>\n",
       "      <th>gdp_per_capita</th>\n",
       "    </tr>\n",
       "  </thead>\n",
       "  <tbody>\n",
       "    <tr>\n",
       "      <th>count</th>\n",
       "      <td>27820.000000</td>\n",
       "      <td>27820.000000</td>\n",
       "      <td>2.782000e+04</td>\n",
       "      <td>27820.000000</td>\n",
       "      <td>8364.000000</td>\n",
       "      <td>27820.000000</td>\n",
       "    </tr>\n",
       "    <tr>\n",
       "      <th>mean</th>\n",
       "      <td>2001.258375</td>\n",
       "      <td>242.574407</td>\n",
       "      <td>1.844794e+06</td>\n",
       "      <td>12.816097</td>\n",
       "      <td>0.776601</td>\n",
       "      <td>16866.464414</td>\n",
       "    </tr>\n",
       "    <tr>\n",
       "      <th>std</th>\n",
       "      <td>8.469055</td>\n",
       "      <td>902.047917</td>\n",
       "      <td>3.911779e+06</td>\n",
       "      <td>18.961511</td>\n",
       "      <td>0.093367</td>\n",
       "      <td>18887.576472</td>\n",
       "    </tr>\n",
       "    <tr>\n",
       "      <th>min</th>\n",
       "      <td>1985.000000</td>\n",
       "      <td>0.000000</td>\n",
       "      <td>2.780000e+02</td>\n",
       "      <td>0.000000</td>\n",
       "      <td>0.483000</td>\n",
       "      <td>251.000000</td>\n",
       "    </tr>\n",
       "    <tr>\n",
       "      <th>25%</th>\n",
       "      <td>1995.000000</td>\n",
       "      <td>3.000000</td>\n",
       "      <td>9.749850e+04</td>\n",
       "      <td>0.920000</td>\n",
       "      <td>0.713000</td>\n",
       "      <td>3447.000000</td>\n",
       "    </tr>\n",
       "    <tr>\n",
       "      <th>50%</th>\n",
       "      <td>2002.000000</td>\n",
       "      <td>25.000000</td>\n",
       "      <td>4.301500e+05</td>\n",
       "      <td>5.990000</td>\n",
       "      <td>0.779000</td>\n",
       "      <td>9372.000000</td>\n",
       "    </tr>\n",
       "    <tr>\n",
       "      <th>75%</th>\n",
       "      <td>2008.000000</td>\n",
       "      <td>131.000000</td>\n",
       "      <td>1.486143e+06</td>\n",
       "      <td>16.620000</td>\n",
       "      <td>0.855000</td>\n",
       "      <td>24874.000000</td>\n",
       "    </tr>\n",
       "    <tr>\n",
       "      <th>max</th>\n",
       "      <td>2016.000000</td>\n",
       "      <td>22338.000000</td>\n",
       "      <td>4.380521e+07</td>\n",
       "      <td>224.970000</td>\n",
       "      <td>0.944000</td>\n",
       "      <td>126352.000000</td>\n",
       "    </tr>\n",
       "  </tbody>\n",
       "</table>\n",
       "</div>"
      ],
      "text/plain": [
       "               year  suicide_count    population  suicide_rate  HDI for year  \\\n",
       "count  27820.000000   27820.000000  2.782000e+04  27820.000000   8364.000000   \n",
       "mean    2001.258375     242.574407  1.844794e+06     12.816097      0.776601   \n",
       "std        8.469055     902.047917  3.911779e+06     18.961511      0.093367   \n",
       "min     1985.000000       0.000000  2.780000e+02      0.000000      0.483000   \n",
       "25%     1995.000000       3.000000  9.749850e+04      0.920000      0.713000   \n",
       "50%     2002.000000      25.000000  4.301500e+05      5.990000      0.779000   \n",
       "75%     2008.000000     131.000000  1.486143e+06     16.620000      0.855000   \n",
       "max     2016.000000   22338.000000  4.380521e+07    224.970000      0.944000   \n",
       "\n",
       "       gdp_per_capita  \n",
       "count    27820.000000  \n",
       "mean     16866.464414  \n",
       "std      18887.576472  \n",
       "min        251.000000  \n",
       "25%       3447.000000  \n",
       "50%       9372.000000  \n",
       "75%      24874.000000  \n",
       "max     126352.000000  "
      ]
     },
     "execution_count": 90,
     "metadata": {},
     "output_type": "execute_result"
    }
   ],
   "source": [
    "raw_df.describe()"
   ]
  },
  {
   "cell_type": "code",
   "execution_count": 91,
   "metadata": {},
   "outputs": [
    {
     "data": {
      "text/plain": [
       "country               0\n",
       "year                  0\n",
       "gender                0\n",
       "age_group             0\n",
       "suicide_count         0\n",
       "population            0\n",
       "suicide_rate          0\n",
       "country-year          0\n",
       "HDI for year      19456\n",
       "gdp_for_year          0\n",
       "gdp_per_capita        0\n",
       "generation            0\n",
       "dtype: int64"
      ]
     },
     "execution_count": 91,
     "metadata": {},
     "output_type": "execute_result"
    }
   ],
   "source": [
    "# Checking for null or missing values\n",
    "\n",
    "raw_df.isnull().sum()"
   ]
  },
  {
   "cell_type": "code",
   "execution_count": 92,
   "metadata": {},
   "outputs": [
    {
     "data": {
      "text/plain": [
       "(27820, 11)"
      ]
     },
     "execution_count": 92,
     "metadata": {},
     "output_type": "execute_result"
    }
   ],
   "source": [
    "# Dropping the HDI for year column\n",
    "# The HDI has 19456 NaN values out of the 27820 total, which accounts for approximately 70% of the data in this column.\n",
    "# This may affect the model's performance, therefore we will drop this column.\n",
    "\n",
    "raw_df = raw_df.drop(['HDI for year'], axis = 1)\n",
    "raw_df.shape"
   ]
  },
  {
   "cell_type": "code",
   "execution_count": 93,
   "metadata": {},
   "outputs": [
    {
     "data": {
      "text/plain": [
       "(27820, 10)"
      ]
     },
     "execution_count": 93,
     "metadata": {},
     "output_type": "execute_result"
    }
   ],
   "source": [
    "# Dropping the country-year for year column\n",
    "# This is just a combination of 2 columns that already exist in the dataset\n",
    "\n",
    "raw_df = raw_df.drop(['country-year'], axis = 1)\n",
    "raw_df.shape"
   ]
  },
  {
   "cell_type": "code",
   "execution_count": 94,
   "metadata": {},
   "outputs": [
    {
     "data": {
      "text/plain": [
       "(27820, 10)"
      ]
     },
     "execution_count": 94,
     "metadata": {},
     "output_type": "execute_result"
    }
   ],
   "source": [
    "# Drop any NaN values if there are any, there should be very few if any\n",
    "\n",
    "raw_df = raw_df.dropna()\n",
    "raw_df.shape"
   ]
  },
  {
   "cell_type": "code",
   "execution_count": 95,
   "metadata": {},
   "outputs": [
    {
     "data": {
      "text/plain": [
       "Index(['country', 'year', 'gender', 'age_group', 'suicide_count', 'population',\n",
       "       'suicide_rate', 'gdp_for_year', 'gdp_per_capita', 'generation'],\n",
       "      dtype='object')"
      ]
     },
     "execution_count": 95,
     "metadata": {},
     "output_type": "execute_result"
    }
   ],
   "source": [
    "raw_df.columns"
   ]
  },
  {
   "cell_type": "code",
   "execution_count": 96,
   "metadata": {},
   "outputs": [],
   "source": [
    "# Encode the categorical data as stated above\n",
    "\n",
    "categorical_columns = ['country', 'year','age_group', 'gender', 'generation']\n",
    "encoder = sklearn.preprocessing.LabelEncoder()\n",
    "\n",
    "for column in categorical_columns:\n",
    "    raw_df[column] = encoder.fit_transform(raw_df[column]) # Change the categorical columns to their new encoded values"
   ]
  },
  {
   "cell_type": "code",
   "execution_count": 97,
   "metadata": {},
   "outputs": [
    {
     "data": {
      "text/html": [
       "<div>\n",
       "<style scoped>\n",
       "    .dataframe tbody tr th:only-of-type {\n",
       "        vertical-align: middle;\n",
       "    }\n",
       "\n",
       "    .dataframe tbody tr th {\n",
       "        vertical-align: top;\n",
       "    }\n",
       "\n",
       "    .dataframe thead th {\n",
       "        text-align: right;\n",
       "    }\n",
       "</style>\n",
       "<table border=\"1\" class=\"dataframe\">\n",
       "  <thead>\n",
       "    <tr style=\"text-align: right;\">\n",
       "      <th></th>\n",
       "      <th>country</th>\n",
       "      <th>year</th>\n",
       "      <th>gender</th>\n",
       "      <th>age_group</th>\n",
       "      <th>suicide_count</th>\n",
       "      <th>population</th>\n",
       "      <th>suicide_rate</th>\n",
       "      <th>gdp_for_year</th>\n",
       "      <th>gdp_per_capita</th>\n",
       "      <th>generation</th>\n",
       "    </tr>\n",
       "  </thead>\n",
       "  <tbody>\n",
       "    <tr>\n",
       "      <th>0</th>\n",
       "      <td>0</td>\n",
       "      <td>2</td>\n",
       "      <td>1</td>\n",
       "      <td>0</td>\n",
       "      <td>21</td>\n",
       "      <td>312900</td>\n",
       "      <td>6.71</td>\n",
       "      <td>2,156,624,900</td>\n",
       "      <td>796</td>\n",
       "      <td>2</td>\n",
       "    </tr>\n",
       "    <tr>\n",
       "      <th>1</th>\n",
       "      <td>0</td>\n",
       "      <td>2</td>\n",
       "      <td>1</td>\n",
       "      <td>2</td>\n",
       "      <td>16</td>\n",
       "      <td>308000</td>\n",
       "      <td>5.19</td>\n",
       "      <td>2,156,624,900</td>\n",
       "      <td>796</td>\n",
       "      <td>5</td>\n",
       "    </tr>\n",
       "    <tr>\n",
       "      <th>2</th>\n",
       "      <td>0</td>\n",
       "      <td>2</td>\n",
       "      <td>0</td>\n",
       "      <td>0</td>\n",
       "      <td>14</td>\n",
       "      <td>289700</td>\n",
       "      <td>4.83</td>\n",
       "      <td>2,156,624,900</td>\n",
       "      <td>796</td>\n",
       "      <td>2</td>\n",
       "    </tr>\n",
       "    <tr>\n",
       "      <th>3</th>\n",
       "      <td>0</td>\n",
       "      <td>2</td>\n",
       "      <td>1</td>\n",
       "      <td>5</td>\n",
       "      <td>1</td>\n",
       "      <td>21800</td>\n",
       "      <td>4.59</td>\n",
       "      <td>2,156,624,900</td>\n",
       "      <td>796</td>\n",
       "      <td>1</td>\n",
       "    </tr>\n",
       "    <tr>\n",
       "      <th>4</th>\n",
       "      <td>0</td>\n",
       "      <td>2</td>\n",
       "      <td>1</td>\n",
       "      <td>1</td>\n",
       "      <td>9</td>\n",
       "      <td>274300</td>\n",
       "      <td>3.28</td>\n",
       "      <td>2,156,624,900</td>\n",
       "      <td>796</td>\n",
       "      <td>0</td>\n",
       "    </tr>\n",
       "    <tr>\n",
       "      <th>...</th>\n",
       "      <td>...</td>\n",
       "      <td>...</td>\n",
       "      <td>...</td>\n",
       "      <td>...</td>\n",
       "      <td>...</td>\n",
       "      <td>...</td>\n",
       "      <td>...</td>\n",
       "      <td>...</td>\n",
       "      <td>...</td>\n",
       "      <td>...</td>\n",
       "    </tr>\n",
       "    <tr>\n",
       "      <th>27815</th>\n",
       "      <td>100</td>\n",
       "      <td>29</td>\n",
       "      <td>0</td>\n",
       "      <td>2</td>\n",
       "      <td>107</td>\n",
       "      <td>3620833</td>\n",
       "      <td>2.96</td>\n",
       "      <td>63,067,077,179</td>\n",
       "      <td>2309</td>\n",
       "      <td>2</td>\n",
       "    </tr>\n",
       "    <tr>\n",
       "      <th>27816</th>\n",
       "      <td>100</td>\n",
       "      <td>29</td>\n",
       "      <td>0</td>\n",
       "      <td>5</td>\n",
       "      <td>9</td>\n",
       "      <td>348465</td>\n",
       "      <td>2.58</td>\n",
       "      <td>63,067,077,179</td>\n",
       "      <td>2309</td>\n",
       "      <td>5</td>\n",
       "    </tr>\n",
       "    <tr>\n",
       "      <th>27817</th>\n",
       "      <td>100</td>\n",
       "      <td>29</td>\n",
       "      <td>1</td>\n",
       "      <td>3</td>\n",
       "      <td>60</td>\n",
       "      <td>2762158</td>\n",
       "      <td>2.17</td>\n",
       "      <td>63,067,077,179</td>\n",
       "      <td>2309</td>\n",
       "      <td>3</td>\n",
       "    </tr>\n",
       "    <tr>\n",
       "      <th>27818</th>\n",
       "      <td>100</td>\n",
       "      <td>29</td>\n",
       "      <td>0</td>\n",
       "      <td>3</td>\n",
       "      <td>44</td>\n",
       "      <td>2631600</td>\n",
       "      <td>1.67</td>\n",
       "      <td>63,067,077,179</td>\n",
       "      <td>2309</td>\n",
       "      <td>3</td>\n",
       "    </tr>\n",
       "    <tr>\n",
       "      <th>27819</th>\n",
       "      <td>100</td>\n",
       "      <td>29</td>\n",
       "      <td>0</td>\n",
       "      <td>4</td>\n",
       "      <td>21</td>\n",
       "      <td>1438935</td>\n",
       "      <td>1.46</td>\n",
       "      <td>63,067,077,179</td>\n",
       "      <td>2309</td>\n",
       "      <td>0</td>\n",
       "    </tr>\n",
       "  </tbody>\n",
       "</table>\n",
       "<p>27820 rows × 10 columns</p>\n",
       "</div>"
      ],
      "text/plain": [
       "       country  year  gender  age_group  suicide_count  population  \\\n",
       "0            0     2       1          0             21      312900   \n",
       "1            0     2       1          2             16      308000   \n",
       "2            0     2       0          0             14      289700   \n",
       "3            0     2       1          5              1       21800   \n",
       "4            0     2       1          1              9      274300   \n",
       "...        ...   ...     ...        ...            ...         ...   \n",
       "27815      100    29       0          2            107     3620833   \n",
       "27816      100    29       0          5              9      348465   \n",
       "27817      100    29       1          3             60     2762158   \n",
       "27818      100    29       0          3             44     2631600   \n",
       "27819      100    29       0          4             21     1438935   \n",
       "\n",
       "       suicide_rate    gdp_for_year  gdp_per_capita  generation  \n",
       "0              6.71   2,156,624,900             796           2  \n",
       "1              5.19   2,156,624,900             796           5  \n",
       "2              4.83   2,156,624,900             796           2  \n",
       "3              4.59   2,156,624,900             796           1  \n",
       "4              3.28   2,156,624,900             796           0  \n",
       "...             ...             ...             ...         ...  \n",
       "27815          2.96  63,067,077,179            2309           2  \n",
       "27816          2.58  63,067,077,179            2309           5  \n",
       "27817          2.17  63,067,077,179            2309           3  \n",
       "27818          1.67  63,067,077,179            2309           3  \n",
       "27819          1.46  63,067,077,179            2309           0  \n",
       "\n",
       "[27820 rows x 10 columns]"
      ]
     },
     "execution_count": 97,
     "metadata": {},
     "output_type": "execute_result"
    }
   ],
   "source": [
    "# Copy of dataset for testing\n",
    "\n",
    "test_df = raw_df.copy()\n",
    "test_df"
   ]
  },
  {
   "cell_type": "code",
   "execution_count": 98,
   "metadata": {},
   "outputs": [
    {
     "data": {
      "text/plain": [
       "country             int64\n",
       "year                int64\n",
       "gender              int64\n",
       "age_group           int64\n",
       "suicide_count       int64\n",
       "population          int64\n",
       "suicide_rate      float64\n",
       "gdp_for_year      float64\n",
       "gdp_per_capita      int64\n",
       "generation          int64\n",
       "dtype: object"
      ]
     },
     "execution_count": 98,
     "metadata": {},
     "output_type": "execute_result"
    }
   ],
   "source": [
    "# Convert the column 'gdp_for_year' to float from object\n",
    "\n",
    "raw_df['gdp_for_year'] = raw_df['gdp_for_year'].str.replace(',','').astype(float)\n",
    "raw_df.dtypes"
   ]
  },
  {
   "cell_type": "code",
   "execution_count": 99,
   "metadata": {},
   "outputs": [
    {
     "data": {
      "text/html": [
       "<div>\n",
       "<style scoped>\n",
       "    .dataframe tbody tr th:only-of-type {\n",
       "        vertical-align: middle;\n",
       "    }\n",
       "\n",
       "    .dataframe tbody tr th {\n",
       "        vertical-align: top;\n",
       "    }\n",
       "\n",
       "    .dataframe thead th {\n",
       "        text-align: right;\n",
       "    }\n",
       "</style>\n",
       "<table border=\"1\" class=\"dataframe\">\n",
       "  <thead>\n",
       "    <tr style=\"text-align: right;\">\n",
       "      <th></th>\n",
       "      <th>country</th>\n",
       "      <th>year</th>\n",
       "      <th>gender</th>\n",
       "      <th>age_group</th>\n",
       "      <th>suicide_count</th>\n",
       "      <th>population</th>\n",
       "      <th>suicide_rate</th>\n",
       "      <th>gdp_for_year</th>\n",
       "      <th>gdp_per_capita</th>\n",
       "      <th>generation</th>\n",
       "    </tr>\n",
       "  </thead>\n",
       "  <tbody>\n",
       "    <tr>\n",
       "      <th>0</th>\n",
       "      <td>0</td>\n",
       "      <td>2</td>\n",
       "      <td>1</td>\n",
       "      <td>0</td>\n",
       "      <td>-0.031250</td>\n",
       "      <td>-0.084435</td>\n",
       "      <td>0.045860</td>\n",
       "      <td>-0.182942</td>\n",
       "      <td>-0.400243</td>\n",
       "      <td>2</td>\n",
       "    </tr>\n",
       "    <tr>\n",
       "      <th>1</th>\n",
       "      <td>0</td>\n",
       "      <td>2</td>\n",
       "      <td>1</td>\n",
       "      <td>2</td>\n",
       "      <td>-0.070312</td>\n",
       "      <td>-0.087963</td>\n",
       "      <td>-0.050955</td>\n",
       "      <td>-0.182942</td>\n",
       "      <td>-0.400243</td>\n",
       "      <td>5</td>\n",
       "    </tr>\n",
       "    <tr>\n",
       "      <th>2</th>\n",
       "      <td>0</td>\n",
       "      <td>2</td>\n",
       "      <td>0</td>\n",
       "      <td>0</td>\n",
       "      <td>-0.085938</td>\n",
       "      <td>-0.101142</td>\n",
       "      <td>-0.073885</td>\n",
       "      <td>-0.182942</td>\n",
       "      <td>-0.400243</td>\n",
       "      <td>2</td>\n",
       "    </tr>\n",
       "    <tr>\n",
       "      <th>3</th>\n",
       "      <td>0</td>\n",
       "      <td>2</td>\n",
       "      <td>1</td>\n",
       "      <td>5</td>\n",
       "      <td>-0.187500</td>\n",
       "      <td>-0.294064</td>\n",
       "      <td>-0.089172</td>\n",
       "      <td>-0.182942</td>\n",
       "      <td>-0.400243</td>\n",
       "      <td>1</td>\n",
       "    </tr>\n",
       "    <tr>\n",
       "      <th>4</th>\n",
       "      <td>0</td>\n",
       "      <td>2</td>\n",
       "      <td>1</td>\n",
       "      <td>1</td>\n",
       "      <td>-0.125000</td>\n",
       "      <td>-0.112232</td>\n",
       "      <td>-0.172611</td>\n",
       "      <td>-0.182942</td>\n",
       "      <td>-0.400243</td>\n",
       "      <td>0</td>\n",
       "    </tr>\n",
       "    <tr>\n",
       "      <th>...</th>\n",
       "      <td>...</td>\n",
       "      <td>...</td>\n",
       "      <td>...</td>\n",
       "      <td>...</td>\n",
       "      <td>...</td>\n",
       "      <td>...</td>\n",
       "      <td>...</td>\n",
       "      <td>...</td>\n",
       "      <td>...</td>\n",
       "      <td>...</td>\n",
       "    </tr>\n",
       "    <tr>\n",
       "      <th>27815</th>\n",
       "      <td>100</td>\n",
       "      <td>29</td>\n",
       "      <td>0</td>\n",
       "      <td>2</td>\n",
       "      <td>0.640625</td>\n",
       "      <td>2.297696</td>\n",
       "      <td>-0.192994</td>\n",
       "      <td>0.059520</td>\n",
       "      <td>-0.329631</td>\n",
       "      <td>2</td>\n",
       "    </tr>\n",
       "    <tr>\n",
       "      <th>27816</th>\n",
       "      <td>100</td>\n",
       "      <td>29</td>\n",
       "      <td>0</td>\n",
       "      <td>5</td>\n",
       "      <td>-0.125000</td>\n",
       "      <td>-0.058824</td>\n",
       "      <td>-0.217197</td>\n",
       "      <td>0.059520</td>\n",
       "      <td>-0.329631</td>\n",
       "      <td>5</td>\n",
       "    </tr>\n",
       "    <tr>\n",
       "      <th>27817</th>\n",
       "      <td>100</td>\n",
       "      <td>29</td>\n",
       "      <td>1</td>\n",
       "      <td>3</td>\n",
       "      <td>0.273438</td>\n",
       "      <td>1.679341</td>\n",
       "      <td>-0.243312</td>\n",
       "      <td>0.059520</td>\n",
       "      <td>-0.329631</td>\n",
       "      <td>3</td>\n",
       "    </tr>\n",
       "    <tr>\n",
       "      <th>27818</th>\n",
       "      <td>100</td>\n",
       "      <td>29</td>\n",
       "      <td>0</td>\n",
       "      <td>3</td>\n",
       "      <td>0.148438</td>\n",
       "      <td>1.585323</td>\n",
       "      <td>-0.275159</td>\n",
       "      <td>0.059520</td>\n",
       "      <td>-0.329631</td>\n",
       "      <td>3</td>\n",
       "    </tr>\n",
       "    <tr>\n",
       "      <th>27819</th>\n",
       "      <td>100</td>\n",
       "      <td>29</td>\n",
       "      <td>0</td>\n",
       "      <td>4</td>\n",
       "      <td>-0.031250</td>\n",
       "      <td>0.726453</td>\n",
       "      <td>-0.288535</td>\n",
       "      <td>0.059520</td>\n",
       "      <td>-0.329631</td>\n",
       "      <td>0</td>\n",
       "    </tr>\n",
       "  </tbody>\n",
       "</table>\n",
       "<p>27820 rows × 10 columns</p>\n",
       "</div>"
      ],
      "text/plain": [
       "       country  year  gender  age_group  suicide_count  population  \\\n",
       "0            0     2       1          0      -0.031250   -0.084435   \n",
       "1            0     2       1          2      -0.070312   -0.087963   \n",
       "2            0     2       0          0      -0.085938   -0.101142   \n",
       "3            0     2       1          5      -0.187500   -0.294064   \n",
       "4            0     2       1          1      -0.125000   -0.112232   \n",
       "...        ...   ...     ...        ...            ...         ...   \n",
       "27815      100    29       0          2       0.640625    2.297696   \n",
       "27816      100    29       0          5      -0.125000   -0.058824   \n",
       "27817      100    29       1          3       0.273438    1.679341   \n",
       "27818      100    29       0          3       0.148438    1.585323   \n",
       "27819      100    29       0          4      -0.031250    0.726453   \n",
       "\n",
       "       suicide_rate  gdp_for_year  gdp_per_capita  generation  \n",
       "0          0.045860     -0.182942       -0.400243           2  \n",
       "1         -0.050955     -0.182942       -0.400243           5  \n",
       "2         -0.073885     -0.182942       -0.400243           2  \n",
       "3         -0.089172     -0.182942       -0.400243           1  \n",
       "4         -0.172611     -0.182942       -0.400243           0  \n",
       "...             ...           ...             ...         ...  \n",
       "27815     -0.192994      0.059520       -0.329631           2  \n",
       "27816     -0.217197      0.059520       -0.329631           5  \n",
       "27817     -0.243312      0.059520       -0.329631           3  \n",
       "27818     -0.275159      0.059520       -0.329631           3  \n",
       "27819     -0.288535      0.059520       -0.329631           0  \n",
       "\n",
       "[27820 rows x 10 columns]"
      ]
     },
     "execution_count": 99,
     "metadata": {},
     "output_type": "execute_result"
    }
   ],
   "source": [
    "# Scaling the numerical data columns \n",
    "\n",
    "numerical = ['suicide_count', 'population', 'suicide_rate', \n",
    "              'gdp_for_year','gdp_per_capita']\n",
    "\n",
    "scalar = RobustScaler()\n",
    "raw_df[numerical] = scalar.fit_transform(raw_df[numerical])\n",
    "raw_df"
   ]
  },
  {
   "cell_type": "code",
   "execution_count": 100,
   "metadata": {},
   "outputs": [
    {
     "data": {
      "text/plain": [
       "((27820, 9), (27820,))"
      ]
     },
     "execution_count": 100,
     "metadata": {},
     "output_type": "execute_result"
    }
   ],
   "source": [
    "# Target Column X & Y Assignment\n",
    "\n",
    "Y = raw_df['suicide_rate']\n",
    "X = raw_df.drop('suicide_rate', axis=1)\n",
    "X.shape, Y.shape\n"
   ]
  },
  {
   "cell_type": "code",
   "execution_count": 104,
   "metadata": {},
   "outputs": [
    {
     "data": {
      "text/plain": [
       "((22256, 9), (5564, 9))"
      ]
     },
     "execution_count": 104,
     "metadata": {},
     "output_type": "execute_result"
    }
   ],
   "source": [
    "X_train, X_test, y_train, y_test = train_test_split(X, Y, test_size = 0.2, random_state = 12)\n",
    "X_train.shape, X_test.shape"
   ]
  },
  {
   "cell_type": "code",
   "execution_count": null,
   "metadata": {},
   "outputs": [],
   "source": [
    "# Helper functions needed for KNN\n",
    "def sigmoid(x):\n",
    "    \"\"\"Computes the element wise logistic sigmoid of x.\n",
    "\n",
    "    Inputs:\n",
    "        x: Either a row vector or a column vector.\n",
    "    \"\"\"\n",
    "    return 1.0 / (1.0 + np.exp(-x))\n",
    "\n",
    "def euclidean_distance(a, b):\n",
    "    \"\"\" Computes the Euclidean distance between a and b.\"\"\"\n",
    "    if a.shape[0] != b.shape[0]:\n",
    "        raise ValueError(\"A and B should be of same dimensionality.\")\n",
    "\n",
    "    aa = np.sum(a ** 2, axis=0)\n",
    "    bb = np.sum(b ** 2, axis=0)\n",
    "    ab = np.dot(a.T, b)\n",
    "\n",
    "    return np.sqrt(aa[:, np.newaxis] + bb[np.newaxis, :] - 2 * ab)"
   ]
  },
  {
   "cell_type": "code",
   "execution_count": 102,
   "metadata": {},
   "outputs": [],
   "source": [
    "# My own KNN function"
   ]
  },
  {
   "cell_type": "code",
   "execution_count": 107,
   "metadata": {},
   "outputs": [
    {
     "data": {
      "text/plain": [
       "GridSearchCV(cv=10, estimator=KNeighborsRegressor(),\n",
       "             param_grid={'n_neighbors': [1, 2, 3, 4, 5, 6, 7, 8, 9, 10, 11, 12,\n",
       "                                         13, 14, 15, 16, 17, 18, 19, 20, 21, 22,\n",
       "                                         23, 24, 25, 26, 27, 28, 29, 30],\n",
       "                         'weights': ['uniform', 'distance']})"
      ]
     },
     "execution_count": 107,
     "metadata": {},
     "output_type": "execute_result"
    }
   ],
   "source": [
    "# Library KNN\n",
    "\n",
    "# Create model\n",
    "knn = KNeighborsRegressor()\n",
    "\n",
    "param_grid = {'n_neighbors':list(range(1, 31)), 'weights': ['uniform', 'distance']}\n",
    "\n",
    "# Create grid of nodes\n",
    "knn_grid = GridSearchCV(knn, param_grid , cv=10)\n",
    "\n",
    "# Fit model with data\n",
    "knn_grid.fit(X_train, y_train)"
   ]
  },
  {
   "cell_type": "code",
   "execution_count": 108,
   "metadata": {},
   "outputs": [
    {
     "name": "stdout",
     "output_type": "stream",
     "text": [
      "{'n_neighbors': 1, 'weights': 'uniform'}\n"
     ]
    }
   ],
   "source": [
    "# Checking best parameters for model\n",
    "params = knn_grid.best_params_\n",
    "print(params)"
   ]
  },
  {
   "cell_type": "code",
   "execution_count": 109,
   "metadata": {},
   "outputs": [],
   "source": [
    "# Predicting the target value from the model for the samples\n",
    "y_train_knn = knn_grid.predict(X_train)\n",
    "y_test_knn = knn_grid.predict(X_test)"
   ]
  },
  {
   "cell_type": "code",
   "execution_count": 115,
   "metadata": {},
   "outputs": [
    {
     "name": "stdout",
     "output_type": "stream",
     "text": [
      "KNN: Accuracy on training Data: 1.000\n",
      "KNN: Accuracy on test Data: 0.812\n"
     ]
    }
   ],
   "source": [
    "# Compute accuracy of the model\n",
    "train_acc = knn_grid.score(X_train, y_train) \n",
    "test_acc = knn_grid.score(X_test, y_test)\n",
    "\n",
    "print(\"KNN: Accuracy on training Data: {:.3f}\".format(train_acc))\n",
    "print(\"KNN: Accuracy on test Data: {:.3f}\".format(test_acc)) # 81% accuracy on the test data"
   ]
  }
 ],
 "metadata": {
  "interpreter": {
   "hash": "f24d7e647225f31d3a9608519da831f7054406feb44929f5d716b35557212e30"
  },
  "kernelspec": {
   "display_name": "Python 3.9.12 ('env-01')",
   "language": "python",
   "name": "python3"
  },
  "language_info": {
   "codemirror_mode": {
    "name": "ipython",
    "version": 3
   },
   "file_extension": ".py",
   "mimetype": "text/x-python",
   "name": "python",
   "nbconvert_exporter": "python",
   "pygments_lexer": "ipython3",
   "version": "3.9.12"
  },
  "orig_nbformat": 4
 },
 "nbformat": 4,
 "nbformat_minor": 2
}
